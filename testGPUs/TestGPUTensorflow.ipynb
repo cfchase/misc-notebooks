{
 "cells": [
  {
   "cell_type": "markdown",
   "id": "d0ea3c7b",
   "metadata": {},
   "source": [
    "Script to test GPU availability in Tensorflow"
   ]
  },
  {
   "cell_type": "code",
   "execution_count": 1,
   "id": "659bee0f",
   "metadata": {
    "ExecuteTime": {
     "end_time": "2021-04-05T17:08:26.480557Z",
     "start_time": "2021-04-05T17:08:24.921114Z"
    }
   },
   "outputs": [],
   "source": [
    "#============================================================================\n",
    "#from Diane Fedema\n",
    "#============================================================================\n",
    "\n",
    "#!nvidia-smi\n",
    "\n",
    "#!oc project \n",
    "\n",
    "#get the name of the \"nvidia-driver-daemonset-xxxx\" from the output   (where xxx is specifc to your driver pod)\n",
    "#!oc get pods \n",
    "\n",
    "#!oc exec -it nvidia-driver-daemonset-xxxx nvidia-smi"
   ]
  },
  {
   "cell_type": "code",
   "execution_count": 2,
   "id": "4accf403",
   "metadata": {
    "ExecuteTime": {
     "end_time": "2021-04-05T21:27:50.646607Z",
     "start_time": "2021-04-05T21:27:48.767148Z"
    }
   },
   "outputs": [],
   "source": [
    "#============================================================================\n",
    "#General script to test GPU availability\n",
    "#============================================================================\n",
    "\n",
    "import numpy as np # linear algebra\n",
    "import pandas as pd # data processing, CSV file I/O (e.g. pd.read_csv)\n",
    "import tensorflow as tf"
   ]
  },
  {
   "cell_type": "code",
   "execution_count": 3,
   "id": "926b4836",
   "metadata": {
    "ExecuteTime": {
     "end_time": "2021-04-05T21:28:56.536400Z",
     "start_time": "2021-04-05T21:28:56.531156Z"
    }
   },
   "outputs": [
    {
     "name": "stdout",
     "output_type": "stream",
     "text": [
      "Name: /physical_device:GPU:0   Type: GPU\n"
     ]
    }
   ],
   "source": [
    "#check GPU availablity\n",
    "gpus = tf.config.experimental.list_physical_devices('GPU')\n",
    "for gpu in gpus:\n",
    "    print(\"Name:\", gpu.name, \"  Type:\", gpu.device_type)\n",
    "    \n",
    "#should see Name: /physical_device:GPU:0   Type: GPU"
   ]
  },
  {
   "cell_type": "code",
   "execution_count": 4,
   "id": "792b774a",
   "metadata": {
    "ExecuteTime": {
     "end_time": "2021-04-05T21:29:05.368039Z",
     "start_time": "2021-04-05T21:29:05.341012Z"
    }
   },
   "outputs": [
    {
     "data": {
      "text/plain": [
       "[name: \"/device:CPU:0\"\n",
       " device_type: \"CPU\"\n",
       " memory_limit: 268435456\n",
       " locality {\n",
       " }\n",
       " incarnation: 3208460017293559617,\n",
       " name: \"/device:GPU:0\"\n",
       " device_type: \"GPU\"\n",
       " memory_limit: 14403224256\n",
       " locality {\n",
       "   bus_id: 1\n",
       "   links {\n",
       "   }\n",
       " }\n",
       " incarnation: 1367692923913724399\n",
       " physical_device_desc: \"device: 0, name: Tesla T4, pci bus id: 0000:00:1e.0, compute capability: 7.5\"]"
      ]
     },
     "execution_count": 4,
     "metadata": {},
     "output_type": "execute_result"
    }
   ],
   "source": [
    "#List Devices including GPUs with Tensorflow\n",
    "\n",
    "from tensorflow.python.client import device_lib\n",
    "\n",
    "device_lib.list_local_devices()\n",
    "\n",
    "#should see name: \"/device:CPU:0\"\n",
    " #device_type: \"CPU\"\n",
    " #memory_limit: 268435456\n",
    " #locality {\n",
    " #}\n",
    " #incarnation: 9642244910482137207,\n",
    " #name: \"/device:XLA_CPU:0\"\n",
    " #device_type: \"XLA_CPU\"\n",
    " #memory_limit: 17179869184"
   ]
  },
  {
   "cell_type": "code",
   "execution_count": 5,
   "id": "ded207a5",
   "metadata": {
    "ExecuteTime": {
     "end_time": "2021-04-05T21:29:13.828962Z",
     "start_time": "2021-04-05T21:29:13.825568Z"
    }
   },
   "outputs": [
    {
     "data": {
      "text/plain": [
       "[PhysicalDevice(name='/physical_device:GPU:0', device_type='GPU')]"
      ]
     },
     "execution_count": 5,
     "metadata": {},
     "output_type": "execute_result"
    }
   ],
   "source": [
    "#Check GPU in Tensorflow\n",
    "#tf.test.is_gpu_available()\n",
    "tf.config.list_physical_devices('GPU')\n",
    "\n",
    "#should see  True"
   ]
  },
  {
   "cell_type": "code",
   "execution_count": 6,
   "id": "baab1c84",
   "metadata": {},
   "outputs": [],
   "source": [
    "#Load MNiSt Dataset\n",
    "\n",
    "mnist = tf.keras.datasets.mnist\n",
    "\n",
    "(x_train, y_train), (x_test, y_test) = mnist.load_data()\n",
    "\n",
    "#should see  Downloading data from https://storage.googleapis.com/tensorflow/tf-keras-datasets/mnist.npz\n",
    "#11493376/11490434 [==============================] - 0s 0us/step"
   ]
  },
  {
   "cell_type": "code",
   "execution_count": 7,
   "id": "41ff9210",
   "metadata": {},
   "outputs": [],
   "source": [
    "#Pre-processing of Training and Test Datasets\n",
    "x_train, x_test = x_train / 255.0, x_test / 255.0\n"
   ]
  },
  {
   "cell_type": "code",
   "execution_count": 8,
   "id": "b708671b",
   "metadata": {},
   "outputs": [],
   "source": [
    "#Create Sequential Model using Tensorflow Keras\n",
    "\n",
    "model = tf.keras.models.Sequential([\n",
    "  tf.keras.layers.Flatten(input_shape=(28, 28)),\n",
    "  tf.keras.layers.Dense(128, activation='relu'),\n",
    "  tf.keras.layers.Dropout(0.2),\n",
    "  tf.keras.layers.Dense(10)\n",
    "])"
   ]
  },
  {
   "cell_type": "code",
   "execution_count": 9,
   "id": "4e8ef14c",
   "metadata": {},
   "outputs": [
    {
     "data": {
      "text/plain": [
       "array([[-0.8918475 ,  0.14371046,  0.6872673 ,  0.09292346, -0.03083122,\n",
       "        -0.5006603 ,  0.4896315 ,  0.18308999, -0.28008485, -0.52647316]],\n",
       "      dtype=float32)"
      ]
     },
     "execution_count": 9,
     "metadata": {},
     "output_type": "execute_result"
    }
   ],
   "source": [
    "predictions = model(x_train[:1]).numpy()\n",
    "predictions"
   ]
  },
  {
   "cell_type": "code",
   "execution_count": 10,
   "id": "8913b626",
   "metadata": {},
   "outputs": [],
   "source": [
    "#create loss function\n",
    "loss_fn = tf.keras.losses.SparseCategoricalCrossentropy(from_logits=True)"
   ]
  },
  {
   "cell_type": "markdown",
   "id": "70d1c46f",
   "metadata": {},
   "source": [
    "Compile the Model Designed Earlier\n",
    "Before the model is ready for training, it needs a few more settings. These are added during the model's compile step:\n",
    "\n",
    "Loss function This measures how accurate the model is during training. You want to minimize this function to \"steer\" the model in the right direction.\n",
    "\n",
    "Optimizer This is how the model is updated based on the data it sees and its loss function.\n",
    "\n",
    "Metrics Used to monitor the training and testing steps. The following example uses accuracy, the fraction of the images that are correctly classified.\n"
   ]
  },
  {
   "cell_type": "code",
   "execution_count": 11,
   "id": "83049d47",
   "metadata": {},
   "outputs": [],
   "source": [
    "model.compile(optimizer='adam',\n",
    "              loss=loss_fn,\n",
    "              metrics=['accuracy'])"
   ]
  },
  {
   "cell_type": "markdown",
   "id": "8bc5262f",
   "metadata": {},
   "source": [
    "Training and Validation\n",
    "The Model.fit method adjusts the model parameters to minimize the loss:"
   ]
  },
  {
   "cell_type": "code",
   "execution_count": 15,
   "id": "b04f3518",
   "metadata": {},
   "outputs": [
    {
     "name": "stdout",
     "output_type": "stream",
     "text": [
      "Epoch 1/5\n",
      "1875/1875 [==============================] - 2s 1ms/step - loss: 0.0420 - accuracy: 0.9859\n",
      "Epoch 2/5\n",
      "1875/1875 [==============================] - 2s 1ms/step - loss: 0.0394 - accuracy: 0.9871\n",
      "Epoch 3/5\n",
      "1875/1875 [==============================] - 2s 1ms/step - loss: 0.0376 - accuracy: 0.9869\n",
      "Epoch 4/5\n",
      "1875/1875 [==============================] - 2s 1ms/step - loss: 0.0346 - accuracy: 0.9886\n",
      "Epoch 5/5\n",
      "1875/1875 [==============================] - 2s 1ms/step - loss: 0.0337 - accuracy: 0.9880\n"
     ]
    },
    {
     "data": {
      "text/plain": [
       "<tensorflow.python.keras.callbacks.History at 0x7f4549fbd130>"
      ]
     },
     "execution_count": 15,
     "metadata": {},
     "output_type": "execute_result"
    }
   ],
   "source": [
    "model.fit(x_train, y_train, epochs=5)\n",
    "\n",
    "#should see \n",
    "#Train on 60000 samples\n",
    "#Epoch 1/5\n",
    "#60000/60000 [==============================] - 5s 81us/sample - loss: 0.2936 - accuracy: 0.9143\n",
    "#Epoch 2/5\n",
    "#60000/60000 [==============================] - 5s 77us/sample - loss: 0.1403 - accuracy: 0.9588"
   ]
  },
  {
   "cell_type": "code",
   "execution_count": 16,
   "id": "b4275c54",
   "metadata": {},
   "outputs": [
    {
     "name": "stdout",
     "output_type": "stream",
     "text": [
      "313/313 - 0s - loss: 0.0690 - accuracy: 0.9812\n"
     ]
    },
    {
     "data": {
      "text/plain": [
       "[0.06901837140321732, 0.9811999797821045]"
      ]
     },
     "execution_count": 16,
     "metadata": {},
     "output_type": "execute_result"
    }
   ],
   "source": [
    "# The Model.evaluate method checks the models performance, usually on a \"Validation-set\" or \"Test-set\".\n",
    "\n",
    "model.evaluate(x_test,  y_test, verbose=2)\n",
    "\n",
    "#should see\n",
    "#10000/10000 - 1s - loss: 0.0696 - accuracy: 0.9764\n",
    "#[0.06958451116532087, 0.9764]"
   ]
  },
  {
   "cell_type": "code",
   "execution_count": null,
   "id": "bc4e2445",
   "metadata": {},
   "outputs": [],
   "source": []
  }
 ],
 "metadata": {
  "finalized": {
   "timestamp": 1617657866863,
   "trusted": true
  },
  "kernelspec": {
   "display_name": "Python 3",
   "language": "python",
   "name": "python3"
  },
  "language_info": {
   "codemirror_mode": {
    "name": "ipython",
    "version": 3
   },
   "file_extension": ".py",
   "mimetype": "text/x-python",
   "name": "python",
   "nbconvert_exporter": "python",
   "pygments_lexer": "ipython3",
   "version": "3.8.3"
  },
  "toc": {
   "base_numbering": 1,
   "nav_menu": {},
   "number_sections": true,
   "sideBar": true,
   "skip_h1_title": false,
   "title_cell": "Table of Contents",
   "title_sidebar": "Contents",
   "toc_cell": false,
   "toc_position": {},
   "toc_section_display": true,
   "toc_window_display": false
  }
 },
 "nbformat": 4,
 "nbformat_minor": 5
}
